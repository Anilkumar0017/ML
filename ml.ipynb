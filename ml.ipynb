{
  "nbformat": 4,
  "nbformat_minor": 0,
  "metadata": {
    "colab": {
      "provenance": []
    },
    "kernelspec": {
      "name": "python3",
      "display_name": "Python 3"
    },
    "language_info": {
      "name": "python"
    }
  },
  "cells": [
    {
      "cell_type": "markdown",
      "source": [],
      "metadata": {
        "id": "y3jKuyeCnioe"
      }
    },
    {
      "cell_type": "markdown",
      "source": [
        "#Questions.1\n",
        "\n",
        "### Matrix Multiplication Operation Counts\n",
        "\n",
        "Given:\n",
        "- First matrix: shape \\((n, k)\\)\n",
        "- Second matrix: shape \\((k, m)\\)\n",
        "- Result: shape \\((n, m)\\)\n",
        "\n",
        "For each element in the result:\n",
        "- **Multiplications:** \\( k \\)\n",
        "- **Additions:** \\( k - 1 \\)\n",
        "\n",
        "Total for the whole matrix:\n",
        "- **Multiplications:** \\( n x m x k \\)\n",
        "- **Additions:** \\( n \\times m \\times (k - 1) \\)\n",
        "# New Section\n",
        "\n"
      ],
      "metadata": {
        "id": "QL0eeN_godPV"
      }
    },
    {
      "cell_type": "markdown",
      "source": [
        "##question 2\n",
        "\n"
      ],
      "metadata": {
        "id": "DtKWG7ANVNWa"
      }
    },
    {
      "cell_type": "code",
      "source": [
        "\n",
        "import time\n",
        "import numpy as np\n",
        "\n",
        "# Matrix sizes\n",
        "n, k, m = 200, 300, 150\n",
        "\n",
        "# --- Pure Python multiplication ---\n",
        "A_list = [[1] * k for _ in range(n)]\n",
        "B_list = [[1] * m for _ in range(k)]\n",
        "\n",
        "def multiply_lists(A, B):\n",
        "    return [[sum(A[i][t] * B[t][j] for t in range(len(B)))\n",
        "             for j in range(len(B[0]))] for i in range(len(A))]\n",
        "\n",
        "t0 = time.time()\n",
        "_ = multiply_lists(A_list, B_list)\n",
        "t1 = time.time()\n",
        "\n",
        "# --- NumPy multiplication ---\n",
        "A_np, B_np = np.ones((n, k)), np.ones((k, m))\n",
        "t2 = time.time()\n",
        "_ = A_np @ B_np\n",
        "t3 = time.time()\n",
        "\n",
        "# --- Results ---\n",
        "print(f\"Python lists: {t1 - t0:.6f} sec\")\n",
        "print(f\"NumPy:        {t3 - t2:.6f} sec\")\n",
        "print(\"NumPy is faster (optimized C/Fortran under the hood).\" if t3 - t2 < t1 - t0 else \"Python lists were faster (unlikely).\")\n",
        "\n",
        "\n"
      ],
      "metadata": {
        "colab": {
          "base_uri": "https://localhost:8080/"
        },
        "id": "nacw8oyRrB0y",
        "outputId": "c87efec9-76ed-4b7e-c864-b8db2882a68e"
      },
      "execution_count": 22,
      "outputs": [
        {
          "output_type": "stream",
          "name": "stdout",
          "text": [
            "Python lists: 0.707746 sec\n",
            "NumPy:        0.001274 sec\n",
            "NumPy is faster (optimized C/Fortran under the hood).\n"
          ]
        }
      ]
    },
    {
      "cell_type": "markdown",
      "source": [
        "Question.3"
      ],
      "metadata": {
        "id": "i9iM7l3IoSFE"
      }
    },
    {
      "cell_type": "code",
      "source": [
        "#Questions.3\n",
        "import time, random, numpy as np\n",
        "\n",
        "# Data\n",
        "n = 10_000\n",
        "arr = [random.randint(0, 100_000) for _ in range(n)]\n",
        "\n",
        "def naive(lst):\n",
        "    lst = lst[:]\n",
        "    for _ in range(len(lst)//2):\n",
        "        lst.remove(max(lst))\n",
        "    return max(lst)\n",
        "\n",
        "def sort_pick(lst):\n",
        "    s = sorted(lst)\n",
        "    m = len(s)//2\n",
        "    return s[m] if len(s)%2 else (s[m-1] + s[m]) / 2\n",
        "\n",
        "def quicksel(lst, k):\n",
        "    if len(lst) == 1: return lst[0]\n",
        "    p = random.choice(lst)\n",
        "    low = [x for x in lst if x < p]\n",
        "    high = [x for x in lst if x > p]\n",
        "    piv = [x for x in lst if x == p]\n",
        "    if k < len(low): return quicksel(low, k)\n",
        "    if k < len(low) + len(piv): return piv[0]\n",
        "    return quicksel(high, k - len(low) - len(piv))\n",
        "\n",
        "def quick_median(lst):\n",
        "    n = len(lst)\n",
        "    return quicksel(lst, n//2) if n%2 else (quicksel(lst, n//2-1) + quicksel(lst, n//2)) / 2\n",
        "\n",
        "# Compare\n",
        "methods = {\n",
        "    \"Naive\": naive,\n",
        "    \"Sort\": sort_pick,\n",
        "    \"Quickselect\": quick_median,\n",
        "    \"NumPy\": np.median\n",
        "}\n",
        "\n",
        "for name, func in methods.items():\n",
        "    start = time.time()\n",
        "    median = func(arr)\n",
        "    print(f\"{name:<12} | Median: {median:<10} | Time: {time.time()-start:.6f}s\")\n",
        "\n"
      ],
      "metadata": {
        "colab": {
          "base_uri": "https://localhost:8080/"
        },
        "id": "n-Nwd_tTrbaO",
        "outputId": "f79fa665-3795-4522-9c6d-bd3a9ac20bff"
      },
      "execution_count": 23,
      "outputs": [
        {
          "output_type": "stream",
          "name": "stdout",
          "text": [
            "Naive        | Median: 50387      | Time: 0.760370s\n",
            "Sort         | Median: 50395.5    | Time: 0.001542s\n",
            "Quickselect  | Median: 50395.5    | Time: 0.005968s\n",
            "NumPy        | Median: 50395.5    | Time: 0.000853s\n"
          ]
        }
      ]
    },
    {
      "cell_type": "markdown",
      "source": [
        "#Questions.4\n",
        "## Gradient of \\( f(x, y) \\)\n",
        "\n",
        "Given:\n",
        "\\[\n",
        "f(x, y) = x^2 y + y^3 \\sin(x)\n",
        "\\]\n",
        "\n",
        "**Partial derivative with respect to \\(x\\):**\n",
        "\\[\n",
        "\\$frac{\\partial f}{\\partial x} = 2xy + y^3 \\cos(x)$\n",
        "\\]\n",
        "\n",
        "**Partial derivative with respect to \\(y\\):**\n",
        "\\[\n",
        "\\$frac{\\partial f}{\\partial y} = x^2 + 3y^2 \\sin(x)$\n",
        "\\]\n",
        "\n",
        "**Gradient vector:**\n",
        "\\[\n",
        "\\nabla f(x, y) =\n",
        "\\begin{bmatrix}\n",
        "2xy + y^3 \\cos(x) \\\\\n",
        "x^2 + 3y^2 \\sin(x)\n",
        "\\end{bmatrix}\n",
        "\\]\n",
        "\n"
      ],
      "metadata": {
        "id": "U5IL3j0CthXI"
      }
    },
    {
      "cell_type": "markdown",
      "source": [
        "Questions.6"
      ],
      "metadata": {
        "id": "t9cjKCl5l0K3"
      }
    },
    {
      "cell_type": "code",
      "source": [
        "#Questions.6\n",
        "import sympy as sp\n",
        "\n",
        "x, y = sp.symbols('x y')\n",
        "f = x**2 + 3*x*y + sp.sin(y)\n",
        "grad = [sp.diff(f, v) for v in (x, y)]\n",
        "\n",
        "print(\"Gradient:\", grad)\n",
        "print(\"At x=2, y=1:\", [g.subs({x: 2, y: 1}) for g in grad])\n"
      ],
      "metadata": {
        "colab": {
          "base_uri": "https://localhost:8080/"
        },
        "id": "nR9CNGhRve9J",
        "outputId": "93fb240f-04bf-432c-f9cd-f6cc8611bde9"
      },
      "execution_count": 26,
      "outputs": [
        {
          "output_type": "stream",
          "name": "stdout",
          "text": [
            "Gradient: [2*x + 3*y, 3*x + cos(y)]\n",
            "At x=2, y=1: [7, cos(1) + 6]\n"
          ]
        }
      ]
    },
    {
      "cell_type": "markdown",
      "source": [
        "Questions.7"
      ],
      "metadata": {
        "id": "ZJDdRO_kl4p9"
      }
    },
    {
      "cell_type": "code",
      "source": [
        "#Questions.7\n",
        "# Nested dictionary for students' marks\n",
        "students_data = {\n",
        "    2022: {\n",
        "        \"Branch 1\": {\n",
        "            1: {\"Name\": \"Alice\", \"Marks\": {\"Maths\": 100, \"English\": 70}},\n",
        "            2: {\"Name\": \"Bob\", \"Marks\": {\"Maths\": 85, \"English\": 88}}\n",
        "        },\n",
        "        \"Branch 2\": {\n",
        "            3: {\"Name\": \"Charlie\", \"Marks\": {\"Maths\": 92, \"English\": 76}}\n",
        "        }\n",
        "    },\n",
        "    2023: {\n",
        "        \"Branch 1\": {},\n",
        "        \"Branch 2\": {}\n",
        "    },\n",
        "    2024: {\n",
        "        \"Branch 1\": {},\n",
        "        \"Branch 2\": {}\n",
        "    },\n",
        "    2025: {\n",
        "        \"Branch 1\": {},\n",
        "        \"Branch 2\": {}\n",
        "    }\n",
        "}\n",
        "\n",
        "# Example: Access Alice's Maths marks\n",
        "print(students_data[2022][\"Branch 1\"][1][\"Marks\"][\"Maths\"])\n"
      ],
      "metadata": {
        "colab": {
          "base_uri": "https://localhost:8080/"
        },
        "id": "QVKa40-LvtNx",
        "outputId": "40f32a4b-67c7-45de-dd42-f17c6f5c2b2d"
      },
      "execution_count": 6,
      "outputs": [
        {
          "output_type": "stream",
          "name": "stdout",
          "text": [
            "100\n"
          ]
        }
      ]
    },
    {
      "cell_type": "markdown",
      "source": [
        "Questions.8"
      ],
      "metadata": {
        "id": "83nhVMv-l9th"
      }
    },
    {
      "cell_type": "code",
      "source": [
        "#Questions.8\n",
        "class Student:\n",
        "    def __init__(self, roll, name, marks):\n",
        "        self.roll, self.name, self.marks = roll, name, marks\n",
        "\n",
        "class Branch:\n",
        "    def __init__(self, name):\n",
        "        self.name, self.students = name, []\n",
        "    def add(self, student): self.students.append(student)\n",
        "\n",
        "class Year:\n",
        "    def __init__(self, yr):\n",
        "        self.yr, self.branches = yr, []\n",
        "    def add(self, branch): self.branches.append(branch)\n",
        "\n",
        "# Data\n",
        "y2022 = Year(2022)\n",
        "b1, b2 = Branch(\"Branch 1\"), Branch(\"Branch 2\")\n",
        "b1.add(Student(1, \"Alice\", {\"Maths\": 100, \"English\": 70}))\n",
        "b1.add(Student(2, \"Bob\", {\"Maths\": 85, \"English\": 88}))\n",
        "b2.add(Student(3, \"Charlie\", {\"Maths\": 92, \"English\": 76}))\n",
        "y2022.add(b1); y2022.add(b2)\n",
        "\n",
        "# Print\n",
        "for b in y2022.branches:\n",
        "    print(b.name, [(s.roll, s.name, s.marks) for s in b.students])\n"
      ],
      "metadata": {
        "colab": {
          "base_uri": "https://localhost:8080/"
        },
        "id": "TLAH24_LwprF",
        "outputId": "16601933-977f-4e66-aecc-b54235183c5f"
      },
      "execution_count": 27,
      "outputs": [
        {
          "output_type": "stream",
          "name": "stdout",
          "text": [
            "Branch 1 [(1, 'Alice', {'Maths': 100, 'English': 70}), (2, 'Bob', {'Maths': 85, 'English': 88})]\n",
            "Branch 2 [(3, 'Charlie', {'Maths': 92, 'English': 76})]\n"
          ]
        }
      ]
    },
    {
      "cell_type": "markdown",
      "source": [
        "Questions.9"
      ],
      "metadata": {
        "id": "ig0dcm_pmBCO"
      }
    },
    {
      "cell_type": "code",
      "source": [
        "#Questions.9\n",
        "import numpy as np\n",
        "import matplotlib.pyplot as plt\n",
        "\n",
        "# Domain\n",
        "x = np.arange(0.5, 100.5, 0.5)\n",
        "\n",
        "# Functions\n",
        "y1 = x\n",
        "y2 = x**2\n",
        "y3 = x**3 / 100\n",
        "y4 = np.sin(x)\n",
        "y5 = np.sin(x) / x\n",
        "y6 = np.log(x)\n",
        "y7 = np.exp(x)\n",
        "\n",
        "# Plotting\n",
        "plt.figure(figsize=(10, 6))\n",
        "plt.plot(x, y1, label=r'$y = x$')\n",
        "plt.plot(x, y2, label=r'$y = x^2$')\n",
        "plt.plot(x, y3, label=r'$y = \\frac{x^3}{100}$')\n",
        "plt.plot(x, y4, label=r'$y = \\sin(x)$')\n",
        "plt.plot(x, y5, label=r'$y = \\frac{\\sin(x)}{x}$')\n",
        "plt.plot(x, y6, label=r'$y = \\log(x)$')\n",
        "plt.plot(x, y7, label=r'$y = e^x$')\n",
        "\n",
        "# Formatting\n",
        "plt.xlabel('x')\n",
        "plt.ylabel('y')\n",
        "plt.title('Function Plots')\n",
        "plt.legend()\n",
        "plt.grid(True)\n",
        "plt.ylim(-10, 100)  # Limit y-axis to prevent e^x from dominating\n",
        "plt.show()\n"
      ],
      "metadata": {
        "colab": {
          "base_uri": "https://localhost:8080/",
          "height": 564
        },
        "id": "w3uEih6rx8eB",
        "outputId": "f567d306-0021-4535-a089-ba7afacb7b39"
      },
      "execution_count": 8,
      "outputs": [
        {
          "output_type": "display_data",
          "data": {
            "text/plain": [
              "<Figure size 1000x600 with 1 Axes>"
            ],
            "image/png": "[encoded data removed]"
          },
          "metadata": {}
        }
      ]
    },
    {
      "cell_type": "markdown",
      "source": [
        "Questions.10"
      ],
      "metadata": {
        "id": "hbKWQ9v9mFBk"
      }
    },
    {
      "cell_type": "code",
      "source": [
        "#Questions.10\n",
        "import numpy as np\n",
        "import pandas as pd\n",
        "\n",
        "# Step 1: Generate random 20x5 matrix with values from 1 to 2\n",
        "matrix = np.random.uniform(1, 2, size=(20, 5))\n",
        "\n",
        "# Step 2: Create DataFrame\n",
        "df = pd.DataFrame(matrix, columns=['a', 'b', 'c', 'd', 'e'])\n",
        "\n",
        "# Step 3: Find column with highest standard deviation\n",
        "col_highest_std = df.std().idxmax()\n",
        "\n",
        "# Step 4: Find row with lowest mean\n",
        "row_lowest_mean_index = df.mean(axis=1).idxmin()\n",
        "\n",
        "print(\"Column with highest standard deviation:\", col_highest_std)\n",
        "print(\"Row with lowest mean (index):\", row_lowest_mean_index)\n"
      ],
      "metadata": {
        "colab": {
          "base_uri": "https://localhost:8080/"
        },
        "id": "NepgshK7yFsC",
        "outputId": "ce97fb0b-0e6d-476e-d6b1-17e512149d9b"
      },
      "execution_count": 9,
      "outputs": [
        {
          "output_type": "stream",
          "name": "stdout",
          "text": [
            "Column with highest standard deviation: c\n",
            "Row with lowest mean (index): 12\n"
          ]
        }
      ]
    },
    {
      "cell_type": "markdown",
      "source": [
        "Questions.11"
      ],
      "metadata": {
        "id": "k_AUC_RZmHwA"
      }
    },
    {
      "cell_type": "code",
      "source": [
        "#Questions.11\n",
        "import pandas as pd\n",
        "\n",
        "# sample data\n",
        "df = pd.DataFrame({\n",
        "    'a': [1, 3, 5, 7],\n",
        "    'b': [2, 4, 1, 0],\n",
        "    'c': [0, 1, 2, 3],\n",
        "    'd': [1, 0, 3, 2],\n",
        "    'e': [3, 1, 0, 5]\n",
        "})\n",
        "\n",
        "# Add column 'f' as sum of columns a to e\n",
        "df['f'] = df[['a','b','c','d','e']].sum(axis=1)\n",
        "\n",
        "# Add column 'g': 'LT8' if f < 8 else 'GT8'\n",
        "df['g'] = ['LT8' if val < 8 else 'GT8' for val in df['f']]\n",
        "\n",
        "# Count how many rows have g = 'LT8'\n",
        "count_lt8 = (df['g'] == 'LT8').sum()\n",
        "\n",
        "# Calculate std deviation of 'f' grouped by 'g'\n",
        "std_dev = df.groupby('g')['f'].std()\n",
        "\n",
        "print(\"Count of LT8 rows:\", count_lt8)\n",
        "print(\"\\nStd deviation by group:\")\n",
        "print(std_dev)\n",
        "\n",
        "print(\"\\nUpdated DataFrame:\")\n",
        "print(df)\n",
        "\n"
      ],
      "metadata": {
        "colab": {
          "base_uri": "https://localhost:8080/"
        },
        "id": "T3DbFvFL0GJ2",
        "outputId": "2bca2769-1abd-4a84-ea48-f18cc34faa24"
      },
      "execution_count": 28,
      "outputs": [
        {
          "output_type": "stream",
          "name": "stdout",
          "text": [
            "Count of LT8 rows: 1\n",
            "\n",
            "Std deviation by group:\n",
            "g\n",
            "GT8    4.163332\n",
            "LT8         NaN\n",
            "Name: f, dtype: float64\n",
            "\n",
            "Updated DataFrame:\n",
            "   a  b  c  d  e   f    g\n",
            "0  1  2  0  1  3   7  LT8\n",
            "1  3  4  1  0  1   9  GT8\n",
            "2  5  1  2  3  0  11  GT8\n",
            "3  7  0  3  2  5  17  GT8\n"
          ]
        }
      ]
    },
    {
      "cell_type": "markdown",
      "source": [
        "Questions.12"
      ],
      "metadata": {
        "id": "nnd3iKH-mMQM"
      }
    },
    {
      "cell_type": "code",
      "source": [
        "#Questions.12\n",
        "import numpy as np\n",
        "\n",
        "# Example arrays\n",
        "A = np.array([[1, 2, 3],\n",
        "              [4, 5, 6]])   # Shape: (2, 3)\n",
        "\n",
        "b = np.array([10, 20, 30])  # Shape: (3,)\n",
        "\n",
        "# Broadcasting: b is \"stretched\" to match A's shape\n",
        "result = A + b\n",
        "\n",
        "print(\"Array A:\\n\", A)\n",
        "print(\"\\nArray b:\\n\", b)\n",
        "print(\"\\nA + b (Broadcasted):\\n\", result)\n"
      ],
      "metadata": {
        "colab": {
          "base_uri": "https://localhost:8080/"
        },
        "id": "B_z3-KPM0q0-",
        "outputId": "08f43eff-eee1-4603-fe19-cfba8973f099"
      },
      "execution_count": 11,
      "outputs": [
        {
          "output_type": "stream",
          "name": "stdout",
          "text": [
            "Array A:\n",
            " [[1 2 3]\n",
            " [4 5 6]]\n",
            "\n",
            "Array b:\n",
            " [10 20 30]\n",
            "\n",
            "A + b (Broadcasted):\n",
            " [[11 22 33]\n",
            " [14 25 36]]\n"
          ]
        }
      ]
    },
    {
      "cell_type": "markdown",
      "source": [
        "Questions.13"
      ],
      "metadata": {
        "id": "1c97eisMmPE9"
      }
    },
    {
      "cell_type": "code",
      "source": [
        "#Questions.13\n",
        "import numpy as np\n",
        "\n",
        "def my_argmin(arr):\n",
        "    min_idx = 0\n",
        "    min_val = arr[0]\n",
        "    for i in range(1, len(arr)):\n",
        "        if arr[i] < min_val:\n",
        "            min_val = arr[i]\n",
        "            min_idx = i\n",
        "    return min_idx\n",
        "\n",
        "# Example\n",
        "arr = np.array([4, 2, 7, 1, 5])\n",
        "print(\"Array:\", arr)\n",
        "print(\"My argmin:\", my_argmin(arr))\n",
        "print(\"NumPy argmin:\", np.argmin(arr))\n",
        "\n"
      ],
      "metadata": {
        "colab": {
          "base_uri": "https://localhost:8080/"
        },
        "id": "4jK-iDsK024C",
        "outputId": "8d5cbfcb-cb10-4514-e361-a418c01c3cc1"
      },
      "execution_count": 29,
      "outputs": [
        {
          "output_type": "stream",
          "name": "stdout",
          "text": [
            "Array: [4 2 7 1 5]\n",
            "My argmin: 3\n",
            "NumPy argmin: 3\n"
          ]
        }
      ]
    }
  ]
}